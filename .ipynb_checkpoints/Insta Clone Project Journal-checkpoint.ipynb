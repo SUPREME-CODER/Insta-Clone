{
 "cells": [
  {
   "cell_type": "markdown",
   "metadata": {},
   "source": [
    "## DAY 1\n",
    "Set up a directory for the project.\n",
    "\n",
    "This project is going to be about developing a clone of Instagram.\n",
    "\n",
    "Reason for developing this clone - Just for my learning process and to see if I can do any better [I don't know what better but just trying to see].\n",
    "\n",
    "This clone will have features of:- \n",
    "* Creating an account with a  username and password and then signing in with the same password [The username needs to be unique].\n",
    "* Photo upload and applying filters on it. [This will be done using FileStack servers].\n",
    "* Hearting others pics. [Just like the hearting feature of instagram. Will add notifications of it if possible]\n",
    "* Following other users. [Will add notifications of it if possible]\n",
    "* Will try to make private accounts. [The user will have to request the owner of the private account to let them follow].\n",
    "* In the end I will attempt to make a chat section as well."
   ]
  },
  {
   "cell_type": "markdown",
   "metadata": {},
   "source": [
    "## DAY 2 - Learning FileStack\n",
    "FileStack initially seemed to be hard and therefore I researched for other alternatives for UploadCare which supposed ot be my initial choice.\n",
    "\n",
    "But on most of the sites, I read that FileStack was recommended as an alternative of UplaodCare.\n",
    "\n",
    "Read the [Docs](https://www.filestack.com/docs/concepts/pickers/web/) of the FileStack.\n",
    "\n",
    "I understood some of it and still need some time to understand all of it atleast what is required for getting started on the image part of the project **[Including the FileStack in my project, File uploads, Transformations, File saving etc]**.\n",
    "\n",
    "As I go about learning the FileStack I will document everything that I learn for future reference and for whoever might read my project in future if at all someone reads it.\n",
    "\n",
    "Now on Day 3 I will try to learn how the UpoadCare was used in the project and at least get started on my project [Designing the pages for Insta Clone]."
   ]
  },
  {
   "cell_type": "code",
   "execution_count": null,
   "metadata": {},
   "outputs": [],
   "source": []
  }
 ],
 "metadata": {
  "kernelspec": {
   "display_name": "Python 3",
   "language": "python",
   "name": "python3"
  },
  "language_info": {
   "codemirror_mode": {
    "name": "ipython",
    "version": 3
   },
   "file_extension": ".py",
   "mimetype": "text/x-python",
   "name": "python",
   "nbconvert_exporter": "python",
   "pygments_lexer": "ipython3",
   "version": "3.7.7"
  }
 },
 "nbformat": 4,
 "nbformat_minor": 4
}
